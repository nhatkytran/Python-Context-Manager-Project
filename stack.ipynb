{
 "cells": [
  {
   "cell_type": "code",
   "execution_count": 18,
   "metadata": {},
   "outputs": [],
   "source": [
    "import csv\n",
    "from collections import namedtuple\n",
    "\n",
    "class Context:\n",
    "    def __init__(self, gen):\n",
    "        self._gen = gen\n",
    "\n",
    "    def __enter__(self):\n",
    "        return next(self._gen)\n",
    "\n",
    "    def __exit__(self, exc_type, exc_value, exc_trace_back):\n",
    "        try:\n",
    "            next(self._gen)\n",
    "        except StopIteration:\n",
    "            pass\n",
    "        return False\n",
    "\n",
    "\n",
    "def context_manager(gen_func):\n",
    "    def inner(*args, **kwargs):\n",
    "        return Context(gen_func(*args, **kwargs))\n",
    "    return inner\n",
    "\n",
    "\n",
    "@context_manager\n",
    "def parsed_data_iter(fname):\n",
    "    print('---')\n",
    "    print(f'{fname} opening...')\n",
    "    print(f'---')\n",
    "    file = open(fname)\n",
    "    try:\n",
    "        dialect = csv.Sniffer().sniff(file.read(1000))\n",
    "        file.seek(0)\n",
    "        reader = csv.reader(file, dialect)\n",
    "        header_row = map(lambda s: s.lower(), next(reader))\n",
    "        nt = namedtuple('Data', header_row)\n",
    "        yield (nt(*data) for data in reader)\n",
    "    finally:\n",
    "        print('---')\n",
    "        print(f'{fname} closing...')\n",
    "        print(f'---')\n",
    "        file.close()\n",
    "\n",
    "\n",
    "class ExitStack:\n",
    "    def __init__(self):\n",
    "        self._readers = []\n",
    "        self._exits = []\n",
    "\n",
    "    def __iter__(self):\n",
    "        return self\n",
    "\n",
    "    def __next__(self):\n",
    "        return [next(reader) for reader in self._readers]\n",
    "\n",
    "    def __enter__(self):\n",
    "        return self\n",
    "\n",
    "    def enter_context(self, fname):\n",
    "        ctx = parsed_data_iter(fname)\n",
    "        self._exits.append(ctx.__exit__)\n",
    "        self._readers.append(ctx.__enter__())\n",
    "\n",
    "    def __exit__(self, exc_type, exc_value, exc_trace_back):\n",
    "        for exit in self._exits[::-1]:\n",
    "            exit(exc_type, exc_value, exc_trace_back)\n",
    "        return False\n"
   ]
  },
  {
   "cell_type": "code",
   "execution_count": null,
   "metadata": {},
   "outputs": [],
   "source": []
  }
 ],
 "metadata": {
  "kernelspec": {
   "display_name": "Python 3.9.5 64-bit",
   "language": "python",
   "name": "python3"
  },
  "language_info": {
   "codemirror_mode": {
    "name": "ipython",
    "version": 3
   },
   "file_extension": ".py",
   "mimetype": "text/x-python",
   "name": "python",
   "nbconvert_exporter": "python",
   "pygments_lexer": "ipython3",
   "version": "3.9.5"
  },
  "orig_nbformat": 4,
  "vscode": {
   "interpreter": {
    "hash": "b8bdd4e700647ba2b08c59e5df8b7da1dcf50a218bcd4c1bcd9b3dc92e8788e5"
   }
  }
 },
 "nbformat": 4,
 "nbformat_minor": 2
}
