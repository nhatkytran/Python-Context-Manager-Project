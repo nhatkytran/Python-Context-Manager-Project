{
 "cells": [
  {
   "cell_type": "code",
   "execution_count": 8,
   "metadata": {},
   "outputs": [
    {
     "name": "stdout",
     "output_type": "stream",
     "text": [
      "---\n",
      "cars.csv opeing...\n",
      "---\n",
      "NamedContextIter(car='Chevrolet Chevelle Malibu', mpg='18.0', cylinders='8', displacement='307.0', horsepower='130.0', weight='3504.', acceleration='12.0', model='70', origin='US')\n",
      "---\n",
      "cars.csv closing...\n",
      "---\n"
     ]
    }
   ],
   "source": [
    "import csv\n",
    "from collections import namedtuple\n",
    "\n",
    "\n",
    "class ContextIterator:\n",
    "    def __init__(self, fname):\n",
    "        self._fname = fname\n",
    "        self._file = None\n",
    "        self._reader = None\n",
    "        self._namedtuple = None\n",
    "\n",
    "    def __iter__(self):\n",
    "        return self\n",
    "\n",
    "    def __next__(self):\n",
    "        if self._file.closed:\n",
    "            raise StopIteration\n",
    "        else:\n",
    "            return self._namedtuple(*next(self._reader))\n",
    "\n",
    "    def sniff_dialect(self):\n",
    "        sample = self._file.read(1000)\n",
    "        self._file.seek(0)\n",
    "        return csv.Sniffer().sniff(sample)\n",
    "\n",
    "    def __enter__(self):\n",
    "        print('---')\n",
    "        print(f'{self._fname} opeing...')\n",
    "        print('---')\n",
    "\n",
    "        self._file = open(self._fname)\n",
    "\n",
    "        dialect = self.sniff_dialect()\n",
    "        self._reader = csv.reader(self._file, dialect)\n",
    "\n",
    "        header_row = map(lambda s: s.lower(), next(self._reader))\n",
    "        self._namedtuple = namedtuple('NamedContextIter', header_row)\n",
    "        \n",
    "        return self\n",
    "\n",
    "    def __exit__(self, exc_type, exc_value, exc_trace_back):\n",
    "        print('---')\n",
    "        print(f'{self._fname} closing...')\n",
    "        print('---')\n",
    "\n",
    "        self._file.close()\n",
    "        return False\n",
    "\n",
    "\n",
    "with ContextIterator('cars.csv') as f:\n",
    "    print(next(f))\n",
    "        "
   ]
  },
  {
   "cell_type": "code",
   "execution_count": null,
   "metadata": {},
   "outputs": [],
   "source": []
  }
 ],
 "metadata": {
  "kernelspec": {
   "display_name": "Python 3.9.5 64-bit",
   "language": "python",
   "name": "python3"
  },
  "language_info": {
   "codemirror_mode": {
    "name": "ipython",
    "version": 3
   },
   "file_extension": ".py",
   "mimetype": "text/x-python",
   "name": "python",
   "nbconvert_exporter": "python",
   "pygments_lexer": "ipython3",
   "version": "3.9.5"
  },
  "orig_nbformat": 4,
  "vscode": {
   "interpreter": {
    "hash": "b8bdd4e700647ba2b08c59e5df8b7da1dcf50a218bcd4c1bcd9b3dc92e8788e5"
   }
  }
 },
 "nbformat": 4,
 "nbformat_minor": 2
}
