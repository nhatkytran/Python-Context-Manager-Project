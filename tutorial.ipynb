{
 "cells": [
  {
   "cell_type": "code",
   "execution_count": 1,
   "metadata": {},
   "outputs": [],
   "source": [
    "# Goal 1\n",
    "\n",
    "import csv\n",
    "from collections import namedtuple\n",
    "\n",
    "\n",
    "def get_dialect(fname):\n",
    "    with open(fname, 'r') as f:\n",
    "        return csv.Sniffer().sniff(f.read(1000))\n",
    "\n",
    "\n",
    "class FileParser:\n",
    "    def __init__(self, fname):\n",
    "        self._fname = fname\n",
    "\n",
    "    def __iter__(self):\n",
    "        return self\n",
    "\n",
    "    def __next__(self):\n",
    "        if not self._file.closed:\n",
    "            return self._namedtuple(*next(self._reader))\n",
    "        raise StopIteration\n",
    "    \n",
    "    def __enter__(self):\n",
    "        print('---')\n",
    "        print(f'{self._fname} opening...')\n",
    "        print('---')\n",
    "\n",
    "        self._file = open(self._fname, 'r')\n",
    "        self._reader = csv.reader(self._file, get_dialect(self._fname))\n",
    "        header_row = map(lambda s: s.lower(), next(self._reader))\n",
    "        self._namedtuple = namedtuple('Data', header_row)\n",
    "        return self\n",
    "\n",
    "    def __exit__(self, exc_type, exc_value, exc_trace_back):\n",
    "        print('---')\n",
    "        print(f'{self._fname} closing...')        \n",
    "        print('---')\n",
    "\n",
    "        self._file.close()\n",
    "        return False\n",
    "\n",
    "\n",
    "# Goal 2\n",
    "\n",
    "import csv\n",
    "from collections import namedtuple\n",
    "from contextlib import contextmanager\n",
    "\n",
    "\n",
    "@contextmanager\n",
    "def parsed_data(fname):\n",
    "    print('---')\n",
    "    print(f'{fname} opening...')\n",
    "    print('---')\n",
    "\n",
    "    file = open(fname, 'r')\n",
    "    try:\n",
    "        dialect = csv.Sniffer().sniff(file.read(1000))\n",
    "        file.seek(0)\n",
    "        \n",
    "        reader = csv.reader(file, dialect)\n",
    "        header_row = map(lambda s: s.lower(), next(reader))\n",
    "        nt = namedtuple('Data', header_row)\n",
    "        yield (nt(*row) for row in reader)\n",
    "    finally:\n",
    "        print('---')\n",
    "        print(f'{fname} closing...')\n",
    "        print('---')\n",
    "\n",
    "        file.close()\n"
   ]
  },
  {
   "cell_type": "code",
   "execution_count": null,
   "metadata": {},
   "outputs": [],
   "source": []
  }
 ],
 "metadata": {
  "kernelspec": {
   "display_name": "Python 3.9.5 64-bit",
   "language": "python",
   "name": "python3"
  },
  "language_info": {
   "codemirror_mode": {
    "name": "ipython",
    "version": 3
   },
   "file_extension": ".py",
   "mimetype": "text/x-python",
   "name": "python",
   "nbconvert_exporter": "python",
   "pygments_lexer": "ipython3",
   "version": "3.9.5"
  },
  "orig_nbformat": 4,
  "vscode": {
   "interpreter": {
    "hash": "b8bdd4e700647ba2b08c59e5df8b7da1dcf50a218bcd4c1bcd9b3dc92e8788e5"
   }
  }
 },
 "nbformat": 4,
 "nbformat_minor": 2
}
